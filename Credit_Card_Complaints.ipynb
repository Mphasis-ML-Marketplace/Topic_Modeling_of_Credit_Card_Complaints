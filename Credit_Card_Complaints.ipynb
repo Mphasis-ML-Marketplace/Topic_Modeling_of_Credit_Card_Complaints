{
 "cells": [
  {
   "cell_type": "markdown",
   "source": [
    "# Mphasis Topic Modeling of Credit Card Complaints\r\n",
    "\r\n",
    "Topic Modelling based solution for customer complaints about Credit Card services. The solution clusters customer complaints into topics based on the narratives provided. Given a set of customer complaints narratives, this solution identifies for each complaint the top three issues mentioned in the narrative. The task of identifying what credit card specific issue is being mentioned in a customer complaint requires human involvement and the same is being automated with this solution. \r\n",
    "\r\n",
    "### Prerequisite\r\n",
    "\r\n",
    "To run this algorithm you need to have access to the following AWS Services:\r\n",
    "- Access to AWS SageMaker and the model package.\r\n",
    "- An S3 bucket to specify input/output.\r\n",
    "- Role for AWS SageMaker to access input/output from S3.\r\n",
    "\r\n",
    "This sample notebook shows you how to deploy Mphasis Topic Modeling of Credit Card Complaints using Amazon SageMaker.\r\n",
    "\r\n",
    "> **Note**: This is a reference notebook and it cannot run unless you make changes suggested in the notebook.\r\n",
    "\r\n",
    "#### Pre-requisites:\r\n",
    "1. **Note**: This notebook contains elements which render correctly in Jupyter interface. Open this notebook from an Amazon SageMaker Notebook Instance or Amazon SageMaker Studio.\r\n",
    "1. Ensure that IAM role used has **AmazonSageMakerFullAccess**\r\n",
    "1. To deploy this ML model successfully, ensure that:\r\n",
    "    1. Either your IAM role has these three permissions and you have authority to make AWS Marketplace subscriptions in the AWS account used: \r\n",
    "        1. **aws-marketplace:ViewSubscriptions**\r\n",
    "        1. **aws-marketplace:Unsubscribe**\r\n",
    "        1. **aws-marketplace:Subscribe**  \r\n",
    "    2. or your AWS account has a subscription to Mphasis Topic Modeling of Credit Card Complaints. If so, skip step: [Subscribe to the model package](#1.-Subscribe-to-the-model-package)\r\n",
    "\r\n",
    "#### Contents:\r\n",
    "1. [Subscribe to the model package](#1.-Subscribe-to-the-model-package)\r\n",
    "2. [Create an endpoint and perform real-time inference](#2.-Create-an-endpoint-and-perform-real-time-inference)\r\n",
    "   1. [Create an endpoint](#A.-Create-an-endpoint)\r\n",
    "   2. [Create input payload](#B.-Create-input-payload)\r\n",
    "   3. [Perform real-time inference](#C.-Perform-real-time-inference)\r\n",
    "   4. [Output Result](#D.-Output-Result)\r\n",
    "   5. [Delete the endpoint](#E.-Delete-the-endpoint)\r\n",
    "3. [Perform batch inference](#3.-Perform-batch-inference) \r\n",
    "4. [Clean-up](#4.-Clean-up)\r\n",
    "    1. [Delete the model](#A.-Delete-the-model)\r\n",
    "    2. [Unsubscribe to the listing (optional)](#B.-Unsubscribe-to-the-listing-(optional))\r\n",
    "    \r\n",
    "\r\n",
    "#### Usage instructions\r\n",
    "You can run this notebook one cell at a time (By using Shift+Enter for running a cell)."
   ],
   "metadata": {}
  },
  {
   "cell_type": "markdown",
   "source": [
    "### 1. Subscribe to the model package"
   ],
   "metadata": {}
  },
  {
   "cell_type": "markdown",
   "source": [
    "To subscribe to the model package:\n",
    "1. Open the model package listing page Mphasis Mortgage Customer Complaints Analyzer\n",
    "1. On the AWS Marketplace listing, click on the **Continue to subscribe** button.\n",
    "1. On the **Subscribe to this software** page, review and click on **\"Accept Offer\"** if you and your organization agrees with EULA, pricing, and support terms. \n",
    "1. Once you click on **Continue to configuration button** and then choose a **region**, you will see a **Product Arn** displayed. This is the model package ARN that you need to specify while creating a deployable model using Boto3. Copy the ARN corresponding to your region and specify the same in the following cell."
   ],
   "metadata": {}
  },
  {
   "cell_type": "code",
   "execution_count": 1,
   "source": [
    "model_package_arn=''"
   ],
   "outputs": [],
   "metadata": {}
  },
  {
   "cell_type": "code",
   "execution_count": 2,
   "source": [
    "import pandas as pd\r\n",
    "import numpy as np\r\n",
    "import json\r\n",
    "import os\r\n",
    "import boto3\r\n",
    "from zipfile import ZipFile\r\n",
    "import uuid\r\n",
    "from sagemaker import ModelPackage\r\n",
    "import sagemaker as sage\r\n",
    "from sagemaker import get_execution_role\r\n",
    "from sagemaker import ModelPackage\r\n",
    "from IPython.display import Image, display"
   ],
   "outputs": [],
   "metadata": {}
  },
  {
   "cell_type": "code",
   "execution_count": 3,
   "source": [
    "role = get_execution_role()\r\n",
    "\r\n",
    "sagemaker_session = sage.Session()\r\n",
    "\r\n",
    "bucket=sagemaker_session.default_bucket()\r\n",
    "bucket"
   ],
   "outputs": [
    {
     "output_type": "execute_result",
     "data": {
      "text/plain": [
       "''"
      ]
     },
     "metadata": {},
     "execution_count": 3
    }
   ],
   "metadata": {}
  },
  {
   "cell_type": "markdown",
   "source": [
    "### 2. Create an endpoint and perform real-time inference"
   ],
   "metadata": {}
  },
  {
   "cell_type": "markdown",
   "source": [
    "If you want to understand how real-time inference with Amazon SageMaker works, see [Documentation](https://docs.aws.amazon.com/sagemaker/latest/dg/how-it-works-hosting.html)."
   ],
   "metadata": {}
  },
  {
   "cell_type": "code",
   "execution_count": 4,
   "source": [
    "model_name='credit-complaint-analyser'\r\n",
    "\r\n",
    "content_type='text/csv'\r\n",
    "\r\n",
    "real_time_inference_instance_type='ml.m5.large'\r\n",
    "batch_transform_inference_instance_type='ml.m5.large'"
   ],
   "outputs": [],
   "metadata": {}
  },
  {
   "cell_type": "markdown",
   "source": [
    "#### A. Create an endpoint"
   ],
   "metadata": {}
  },
  {
   "cell_type": "code",
   "execution_count": 5,
   "source": [
    "def predict_wrapper(endpoint, session):\r\n",
    "    return sage.predictor.RealTimePredictor(endpoint, session,content_type)\r\n",
    "\r\n",
    "#create a deployable model from the model package.\r\n",
    "\r\n",
    "model = ModelPackage(role=role,\r\n",
    "                    model_package_arn=model_package_arn,\r\n",
    "                    sagemaker_session=sagemaker_session,\r\n",
    "                    predictor_cls=predict_wrapper)"
   ],
   "outputs": [],
   "metadata": {}
  },
  {
   "cell_type": "code",
   "execution_count": null,
   "source": [
    "predictor = model.deploy(1, real_time_inference_instance_type, endpoint_name=model_name)"
   ],
   "outputs": [],
   "metadata": {}
  },
  {
   "cell_type": "markdown",
   "source": [
    "Once endpoint has been created, you would be able to perform real-time inference."
   ],
   "metadata": {}
  },
  {
   "cell_type": "markdown",
   "source": [
    "#### B. Create input payload"
   ],
   "metadata": {}
  },
  {
   "cell_type": "markdown",
   "source": [
    "#### Instructions\n",
    "\n",
    "1. The input dataset should be in CSV format. \n",
    "\n",
    "2. The input can be provided as CSV file, with a single column called text, with different rows containing different customer complaints. "
   ],
   "metadata": {}
  },
  {
   "cell_type": "code",
   "execution_count": 7,
   "source": [
    "file_name = 'input.csv'"
   ],
   "outputs": [],
   "metadata": {}
  },
  {
   "cell_type": "markdown",
   "source": [
    "#### C. Perform real-time inference"
   ],
   "metadata": {}
  },
  {
   "cell_type": "code",
   "execution_count": 8,
   "source": [
    "!aws sagemaker-runtime invoke-endpoint --endpoint-name $model_name --body fileb://$file_name --content-type 'text/csv' --region us-east-2 output.csv"
   ],
   "outputs": [
    {
     "output_type": "stream",
     "name": "stdout",
     "text": [
      "{\r\n",
      "    \"ContentType\": \"text/csv; charset=utf-8\",\r\n",
      "    \"InvokedProductionVariant\": \"AllTraffic\"\r\n",
      "}\r\n"
     ]
    }
   ],
   "metadata": {}
  },
  {
   "cell_type": "markdown",
   "source": [
    "#### D. Output Result\n",
    "\n",
    "- The output file ('sample_output.csv') contains the list of customer complaints along with the top 3 topics the issues belong to."
   ],
   "metadata": {}
  },
  {
   "cell_type": "code",
   "execution_count": 21,
   "source": [
    "file_path = os.getcwd()\r\n",
    "output_df_path = os.path.join(file_path, 'output.csv')\r\n",
    "print(\"Sample Output:\")\r\n",
    "output_df = pd.read_csv(output_df_path)\r\n",
    "output_df.head()"
   ],
   "outputs": [
    {
     "output_type": "stream",
     "name": "stdout",
     "text": [
      "Sample Output:\n"
     ]
    },
    {
     "output_type": "execute_result",
     "data": {
      "text/plain": [
       "                                                Text  \\\n",
       "0  I was contacted by Freedom mortgage several ti...   \n",
       "1  My complaint is with Carrington Mortgage Servi...   \n",
       "2  We started our mortgage with Loan Depot in XX/...   \n",
       "\n",
       "                                             Topic 1  \\\n",
       "0  Customer Support Complaint : time,call,day,com...   \n",
       "1  Account Statement Complaint : fee,account,stat...   \n",
       "2  Payment Processing Complaint : payment,mortgag...   \n",
       "\n",
       "                                             Topic 2  \\\n",
       "0  Mortgage Closing Complaint : loan,home,closing...   \n",
       "1  Payment Processing Complaint : payment,mortgag...   \n",
       "2  Customer Support Complaint : time,call,day,com...   \n",
       "\n",
       "                                             Topic 3  \n",
       "0  Escrow Complaint : insurance,escrow,mortgage,t...  \n",
       "1  Fraud/Cheating Complaint : loan,document,prope...  \n",
       "2  Escrow Complaint : insurance,escrow,mortgage,t...  "
      ],
      "text/html": [
       "<div>\n",
       "<style scoped>\n",
       "    .dataframe tbody tr th:only-of-type {\n",
       "        vertical-align: middle;\n",
       "    }\n",
       "\n",
       "    .dataframe tbody tr th {\n",
       "        vertical-align: top;\n",
       "    }\n",
       "\n",
       "    .dataframe thead th {\n",
       "        text-align: right;\n",
       "    }\n",
       "</style>\n",
       "<table border=\"1\" class=\"dataframe\">\n",
       "  <thead>\n",
       "    <tr style=\"text-align: right;\">\n",
       "      <th></th>\n",
       "      <th>Text</th>\n",
       "      <th>Topic 1</th>\n",
       "      <th>Topic 2</th>\n",
       "      <th>Topic 3</th>\n",
       "    </tr>\n",
       "  </thead>\n",
       "  <tbody>\n",
       "    <tr>\n",
       "      <th>0</th>\n",
       "      <td>I was contacted by Freedom mortgage several ti...</td>\n",
       "      <td>Customer Support Complaint : time,call,day,com...</td>\n",
       "      <td>Mortgage Closing Complaint : loan,home,closing...</td>\n",
       "      <td>Escrow Complaint : insurance,escrow,mortgage,t...</td>\n",
       "    </tr>\n",
       "    <tr>\n",
       "      <th>1</th>\n",
       "      <td>My complaint is with Carrington Mortgage Servi...</td>\n",
       "      <td>Account Statement Complaint : fee,account,stat...</td>\n",
       "      <td>Payment Processing Complaint : payment,mortgag...</td>\n",
       "      <td>Fraud/Cheating Complaint : loan,document,prope...</td>\n",
       "    </tr>\n",
       "    <tr>\n",
       "      <th>2</th>\n",
       "      <td>We started our mortgage with Loan Depot in XX/...</td>\n",
       "      <td>Payment Processing Complaint : payment,mortgag...</td>\n",
       "      <td>Customer Support Complaint : time,call,day,com...</td>\n",
       "      <td>Escrow Complaint : insurance,escrow,mortgage,t...</td>\n",
       "    </tr>\n",
       "  </tbody>\n",
       "</table>\n",
       "</div>"
      ]
     },
     "metadata": {},
     "execution_count": 21
    }
   ],
   "metadata": {}
  },
  {
   "cell_type": "markdown",
   "source": [
    "#### E. Delete the endpoint"
   ],
   "metadata": {}
  },
  {
   "cell_type": "markdown",
   "source": [
    "Now that you have successfully performed a real-time inference, you do not need the endpoint any more. You can terminate the endpoint to avoid being charged."
   ],
   "metadata": {}
  },
  {
   "cell_type": "code",
   "execution_count": 10,
   "source": [
    "predictor=sage.predictor.Predictor(model_name, sagemaker_session,content_type)\r\n",
    "predictor.delete_endpoint(delete_endpoint_config=True)"
   ],
   "outputs": [],
   "metadata": {}
  },
  {
   "cell_type": "markdown",
   "source": [
    "### 3. Perform batch inference"
   ],
   "metadata": {}
  },
  {
   "cell_type": "markdown",
   "source": [
    "In this section, you will perform batch inference using multiple input payloads together. If you are not familiar with batch transform, and want to learn more, see these links:\n",
    "1. [How it works](https://docs.aws.amazon.com/sagemaker/latest/dg/ex1-batch-transform.html)\n",
    "2. [How to run a batch transform job](https://docs.aws.amazon.com/sagemaker/latest/dg/how-it-works-batch.html)"
   ],
   "metadata": {}
  },
  {
   "cell_type": "code",
   "execution_count": 11,
   "source": [
    "#upload the batch-transform job input files to S3\r\n",
    "transform_input_folder = \"data/input/batch\"\r\n",
    "transform_input = sagemaker_session.upload_data(transform_input_folder, key_prefix=model_name) \r\n",
    "print(\"Transform input uploaded to \" + transform_input)"
   ],
   "outputs": [
    {
     "output_type": "stream",
     "name": "stdout",
     "text": [
      "Transform input uploaded to \n"
     ]
    }
   ],
   "metadata": {}
  },
  {
   "cell_type": "code",
   "execution_count": null,
   "source": [
    "#Run the batch-transform job\r\n",
    "transformer = model.transformer(1, batch_transform_inference_instance_type)\r\n",
    "transformer.transform(transform_input, content_type=content_type)\r\n",
    "transformer.wait()"
   ],
   "outputs": [],
   "metadata": {}
  },
  {
   "cell_type": "code",
   "execution_count": 13,
   "source": [
    "#output is available on following path\r\n",
    "transformer.output_path"
   ],
   "outputs": [
    {
     "output_type": "execute_result",
     "data": {
      "text/plain": [
       "''"
      ]
     },
     "metadata": {},
     "execution_count": 13
    }
   ],
   "metadata": {}
  },
  {
   "cell_type": "code",
   "execution_count": 15,
   "source": [
    "s3_conn = boto3.client(\"s3\")\r\n",
    "bucket_name=\"\"\r\n",
    "with open('output2.csv', 'wb') as f:\r\n",
    "    s3_conn.download_fileobj(bucket_name, os.path.basename(transformer.output_path)+'/input.csv.out', f)\r\n",
    "    print(\"Output file loaded from bucket\")"
   ],
   "outputs": [
    {
     "output_type": "stream",
     "name": "stdout",
     "text": [
      "Output file loaded from bucket\n"
     ]
    }
   ],
   "metadata": {}
  },
  {
   "cell_type": "code",
   "execution_count": 22,
   "source": [
    "file_path = os.getcwd()\r\n",
    "output_df_path = os.path.join(file_path, 'output2.csv')\r\n",
    "print(\"Sample Output:\")\r\n",
    "output_df = pd.read_csv(output_df_path)\r\n",
    "output_df.head()"
   ],
   "outputs": [
    {
     "output_type": "stream",
     "name": "stdout",
     "text": [
      "Sample Output:\n"
     ]
    },
    {
     "output_type": "execute_result",
     "data": {
      "text/plain": [
       "                                                Text  \\\n",
       "0  I was contacted by Freedom mortgage several ti...   \n",
       "1  My complaint is with Carrington Mortgage Servi...   \n",
       "2  We started our mortgage with Loan Depot in XX/...   \n",
       "\n",
       "                                             Topic 1  \\\n",
       "0  Customer Support Complaint : time,call,day,com...   \n",
       "1  Account Statement Complaint : fee,account,stat...   \n",
       "2  Payment Processing Complaint : payment,mortgag...   \n",
       "\n",
       "                                             Topic 2  \\\n",
       "0  Mortgage Closing Complaint : loan,home,closing...   \n",
       "1  Payment Processing Complaint : payment,mortgag...   \n",
       "2  Customer Support Complaint : time,call,day,com...   \n",
       "\n",
       "                                             Topic 3  \n",
       "0  Escrow Complaint : insurance,escrow,mortgage,t...  \n",
       "1  Fraud/Cheating Complaint : loan,document,prope...  \n",
       "2  Escrow Complaint : insurance,escrow,mortgage,t...  "
      ],
      "text/html": [
       "<div>\n",
       "<style scoped>\n",
       "    .dataframe tbody tr th:only-of-type {\n",
       "        vertical-align: middle;\n",
       "    }\n",
       "\n",
       "    .dataframe tbody tr th {\n",
       "        vertical-align: top;\n",
       "    }\n",
       "\n",
       "    .dataframe thead th {\n",
       "        text-align: right;\n",
       "    }\n",
       "</style>\n",
       "<table border=\"1\" class=\"dataframe\">\n",
       "  <thead>\n",
       "    <tr style=\"text-align: right;\">\n",
       "      <th></th>\n",
       "      <th>Text</th>\n",
       "      <th>Topic 1</th>\n",
       "      <th>Topic 2</th>\n",
       "      <th>Topic 3</th>\n",
       "    </tr>\n",
       "  </thead>\n",
       "  <tbody>\n",
       "    <tr>\n",
       "      <th>0</th>\n",
       "      <td>I was contacted by Freedom mortgage several ti...</td>\n",
       "      <td>Customer Support Complaint : time,call,day,com...</td>\n",
       "      <td>Mortgage Closing Complaint : loan,home,closing...</td>\n",
       "      <td>Escrow Complaint : insurance,escrow,mortgage,t...</td>\n",
       "    </tr>\n",
       "    <tr>\n",
       "      <th>1</th>\n",
       "      <td>My complaint is with Carrington Mortgage Servi...</td>\n",
       "      <td>Account Statement Complaint : fee,account,stat...</td>\n",
       "      <td>Payment Processing Complaint : payment,mortgag...</td>\n",
       "      <td>Fraud/Cheating Complaint : loan,document,prope...</td>\n",
       "    </tr>\n",
       "    <tr>\n",
       "      <th>2</th>\n",
       "      <td>We started our mortgage with Loan Depot in XX/...</td>\n",
       "      <td>Payment Processing Complaint : payment,mortgag...</td>\n",
       "      <td>Customer Support Complaint : time,call,day,com...</td>\n",
       "      <td>Escrow Complaint : insurance,escrow,mortgage,t...</td>\n",
       "    </tr>\n",
       "  </tbody>\n",
       "</table>\n",
       "</div>"
      ]
     },
     "metadata": {},
     "execution_count": 22
    }
   ],
   "metadata": {}
  },
  {
   "cell_type": "markdown",
   "source": [
    "### 4. Clean-up"
   ],
   "metadata": {}
  },
  {
   "cell_type": "markdown",
   "source": [
    "#### A. Delete the model"
   ],
   "metadata": {}
  },
  {
   "cell_type": "code",
   "execution_count": 17,
   "source": [
    "model.delete_model()"
   ],
   "outputs": [],
   "metadata": {}
  },
  {
   "cell_type": "markdown",
   "source": [
    "#### B. Unsubscribe to the listing (optional)"
   ],
   "metadata": {}
  },
  {
   "cell_type": "markdown",
   "source": [
    "If you would like to unsubscribe to the model package, follow these steps. Before you cancel the subscription, ensure that you do not have any [deployable model](https://console.aws.amazon.com/sagemaker/home#/models) created from the model package or using the algorithm. Note - You can find this information by looking at the container name associated with the model. \n",
    "\n",
    "**Steps to unsubscribe to product from AWS Marketplace**:\n",
    "1. Navigate to __Machine Learning__ tab on [__Your Software subscriptions page__](https://aws.amazon.com/marketplace/ai/library?productType=ml&ref_=mlmp_gitdemo_indust)\n",
    "2. Locate the listing that you want to cancel the subscription for, and then choose __Cancel Subscription__  to cancel the subscription."
   ],
   "metadata": {}
  }
 ],
 "metadata": {
  "kernelspec": {
   "display_name": "conda_mxnet_p36",
   "language": "python",
   "name": "conda_mxnet_p36"
  },
  "language_info": {
   "codemirror_mode": {
    "name": "ipython",
    "version": 3
   },
   "file_extension": ".py",
   "mimetype": "text/x-python",
   "name": "python",
   "nbconvert_exporter": "python",
   "pygments_lexer": "ipython3",
   "version": "3.6.13"
  }
 },
 "nbformat": 4,
 "nbformat_minor": 2
}