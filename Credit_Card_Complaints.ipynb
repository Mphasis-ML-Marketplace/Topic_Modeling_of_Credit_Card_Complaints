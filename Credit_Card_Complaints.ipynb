{
 "cells": [
  {
   "cell_type": "markdown",
   "metadata": {},
   "source": [
    "# Mphasis Topic Modeling of Credit Card Complaints\n",
    "\n",
    "Topic Modelling based solution for customer complaints about Credit Card services. The solution clusters customer complaints into topics based on the narratives provided. Given a set of customer complaints narratives, this solution identifies for each complaint the top three issues mentioned in the narrative. The task of identifying what credit card specific issue is being mentioned in a customer complaint requires human involvement and the same is being automated with this solution. \n",
    "\n",
    "### Prerequisite\n",
    "\n",
    "To run this algorithm you need to have access to the following AWS Services:\n",
    "- Access to AWS SageMaker and the model package.\n",
    "- An S3 bucket to specify input/output.\n",
    "- Role for AWS SageMaker to access input/output from S3.\n",
    "\n",
    "This sample notebook shows you how to deploy Mphasis Topic Modeling of Credit Card Complaints using Amazon SageMaker.\n",
    "\n",
    "> **Note**: This is a reference notebook and it cannot run unless you make changes suggested in the notebook.\n",
    "\n",
    "#### Pre-requisites:\n",
    "1. **Note**: This notebook contains elements which render correctly in Jupyter interface. Open this notebook from an Amazon SageMaker Notebook Instance or Amazon SageMaker Studio.\n",
    "1. Ensure that IAM role used has **AmazonSageMakerFullAccess**\n",
    "1. To deploy this ML model successfully, ensure that:\n",
    "    1. Either your IAM role has these three permissions and you have authority to make AWS Marketplace subscriptions in the AWS account used: \n",
    "        1. **aws-marketplace:ViewSubscriptions**\n",
    "        1. **aws-marketplace:Unsubscribe**\n",
    "        1. **aws-marketplace:Subscribe**  \n",
    "    2. or your AWS account has a subscription to Mphasis Topic Modeling of Credit Card Complaints. If so, skip step: [Subscribe to the model package](#1.-Subscribe-to-the-model-package)\n",
    "\n",
    "#### Contents:\n",
    "1. [Subscribe to the model package](#1.-Subscribe-to-the-model-package)\n",
    "2. [Create an endpoint and perform real-time inference](#2.-Create-an-endpoint-and-perform-real-time-inference)\n",
    "   1. [Create an endpoint](#A.-Create-an-endpoint)\n",
    "   2. [Create input payload](#B.-Create-input-payload)\n",
    "   3. [Perform real-time inference](#C.-Perform-real-time-inference)\n",
    "   4. [Output Result](#D.-Output-Result)\n",
    "   5. [Delete the endpoint](#E.-Delete-the-endpoint)\n",
    "3. [Perform batch inference](#3.-Perform-batch-inference) \n",
    "4. [Clean-up](#4.-Clean-up)\n",
    "    1. [Delete the model](#A.-Delete-the-model)\n",
    "    2. [Unsubscribe to the listing (optional)](#B.-Unsubscribe-to-the-listing-(optional))\n",
    "    \n",
    "\n",
    "#### Usage instructions\n",
    "You can run this notebook one cell at a time (By using Shift+Enter for running a cell)."
   ]
  },
  {
   "cell_type": "markdown",
   "metadata": {},
   "source": [
    "### 1. Subscribe to the model package"
   ]
  },
  {
   "cell_type": "markdown",
   "metadata": {},
   "source": [
    "To subscribe to the model package:\n",
    "1. Open the model package listing page Mphasis Mortgage Customer Complaints Analyzer\n",
    "1. On the AWS Marketplace listing, click on the **Continue to subscribe** button.\n",
    "1. On the **Subscribe to this software** page, review and click on **\"Accept Offer\"** if you and your organization agrees with EULA, pricing, and support terms. \n",
    "1. Once you click on **Continue to configuration button** and then choose a **region**, you will see a **Product Arn** displayed. This is the model package ARN that you need to specify while creating a deployable model using Boto3. Copy the ARN corresponding to your region and specify the same in the following cell."
   ]
  },
  {
   "cell_type": "code",
   "execution_count": 1,
   "metadata": {},
   "outputs": [],
   "source": [
    "model_package_arn = 'your_ARN_here'"
   ]
  },
  {
   "cell_type": "code",
   "execution_count": 2,
   "metadata": {},
   "outputs": [],
   "source": [
    "import pandas as pd\n",
    "import numpy as np\n",
    "import json\n",
    "import os\n",
    "import boto3\n",
    "from zipfile import ZipFile\n",
    "import uuid\n",
    "from sagemaker import ModelPackage\n",
    "import sagemaker as sage\n",
    "from sagemaker import get_execution_role\n",
    "from sagemaker import ModelPackage\n",
    "from IPython.display import Image, display"
   ]
  },
  {
   "cell_type": "code",
   "execution_count": null,
   "metadata": {},
   "outputs": [],
   "source": [
    "role = get_execution_role()\n",
    "\n",
    "sagemaker_session = sage.Session()\n",
    "\n",
    "bucket=sagemaker_session.default_bucket()"
   ]
  },
  {
   "cell_type": "markdown",
   "metadata": {},
   "source": [
    "### 2. Create an endpoint and perform real-time inference"
   ]
  },
  {
   "cell_type": "markdown",
   "metadata": {},
   "source": [
    "If you want to understand how real-time inference with Amazon SageMaker works, see [Documentation](https://docs.aws.amazon.com/sagemaker/latest/dg/how-it-works-hosting.html)."
   ]
  },
  {
   "cell_type": "code",
   "execution_count": 4,
   "metadata": {},
   "outputs": [],
   "source": [
    "model_name='credit-complaint-analyser'\n",
    "\n",
    "content_type='text/csv'\n",
    "\n",
    "real_time_inference_instance_type='ml.m5.large'\n",
    "batch_transform_inference_instance_type='ml.m5.large'"
   ]
  },
  {
   "cell_type": "markdown",
   "metadata": {},
   "source": [
    "#### A. Create an endpoint"
   ]
  },
  {
   "cell_type": "code",
   "execution_count": 5,
   "metadata": {},
   "outputs": [],
   "source": [
    "def predict_wrapper(endpoint, session):\n",
    "    return sage.predictor.RealTimePredictor(endpoint, session,content_type)\n",
    "\n",
    "#create a deployable model from the model package.\n",
    "\n",
    "model = ModelPackage(role=role,\n",
    "                    model_package_arn=model_package_arn,\n",
    "                    sagemaker_session=sagemaker_session,\n",
    "                    predictor_cls=predict_wrapper)"
   ]
  },
  {
   "cell_type": "code",
   "execution_count": 6,
   "metadata": {},
   "outputs": [
    {
     "name": "stdout",
     "output_type": "stream",
     "text": [
      "-----------!\n"
     ]
    }
   ],
   "source": [
    "predictor = model.deploy(1, real_time_inference_instance_type, endpoint_name=model_name)"
   ]
  },
  {
   "cell_type": "markdown",
   "metadata": {},
   "source": [
    "Once endpoint has been created, you would be able to perform real-time inference."
   ]
  },
  {
   "cell_type": "markdown",
   "metadata": {},
   "source": [
    "#### B. Create input payload"
   ]
  },
  {
   "cell_type": "markdown",
   "metadata": {},
   "source": [
    "#### Instructions\n",
    "\n",
    "1. The input dataset should be in CSV format. \n",
    "\n",
    "2. The input can be provided as CSV file, with a single column called text, with different rows containing different customer complaints. "
   ]
  },
  {
   "cell_type": "code",
   "execution_count": 7,
   "metadata": {},
   "outputs": [],
   "source": [
    "file_name = 'input.csv'"
   ]
  },
  {
   "cell_type": "markdown",
   "metadata": {},
   "source": [
    "#### C. Perform real-time inference"
   ]
  },
  {
   "cell_type": "code",
   "execution_count": 9,
   "metadata": {},
   "outputs": [
    {
     "name": "stdout",
     "output_type": "stream",
     "text": [
      "{\n",
      "    \"ContentType\": \"text/csv; charset=utf-8\",\n",
      "    \"InvokedProductionVariant\": \"AllTraffic\"\n",
      "}\n"
     ]
    }
   ],
   "source": [
    "!aws sagemaker-runtime invoke-endpoint --endpoint-name $model_name --body fileb://$file_name --content-type 'text/csv' --region us-east-2 output.csv"
   ]
  },
  {
   "cell_type": "markdown",
   "metadata": {},
   "source": [
    "#### D. Output Result\n",
    "\n",
    "- The output file ('sample_output.csv') contains the list of customer complaints along with the top 3 topics the issues belong to."
   ]
  },
  {
   "cell_type": "code",
   "execution_count": 10,
   "metadata": {},
   "outputs": [
    {
     "name": "stdout",
     "output_type": "stream",
     "text": [
      "Sample Output:\n"
     ]
    },
    {
     "data": {
      "text/html": [
       "<div>\n",
       "<style scoped>\n",
       "    .dataframe tbody tr th:only-of-type {\n",
       "        vertical-align: middle;\n",
       "    }\n",
       "\n",
       "    .dataframe tbody tr th {\n",
       "        vertical-align: top;\n",
       "    }\n",
       "\n",
       "    .dataframe thead th {\n",
       "        text-align: right;\n",
       "    }\n",
       "</style>\n",
       "<table border=\"1\" class=\"dataframe\">\n",
       "  <thead>\n",
       "    <tr style=\"text-align: right;\">\n",
       "      <th></th>\n",
       "      <th>Text</th>\n",
       "      <th>Topic 1</th>\n",
       "      <th>Topic 2</th>\n",
       "      <th>Topic 3</th>\n",
       "    </tr>\n",
       "  </thead>\n",
       "  <tbody>\n",
       "    <tr>\n",
       "      <th>0</th>\n",
       "      <td>This all stemmed from a fraudulent charge from...</td>\n",
       "      <td>Transaction-Dispute related complaint : charge...</td>\n",
       "      <td>Customer-Service related complaint : customer,...</td>\n",
       "      <td>Account related complaint : account,card,capit...</td>\n",
       "    </tr>\n",
       "    <tr>\n",
       "      <th>1</th>\n",
       "      <td>I have this same problem with all Synchrony cr...</td>\n",
       "      <td>Payments related complaint: payment,account,cr...</td>\n",
       "      <td>Rewards/Offers related complaint: purchase,poi...</td>\n",
       "      <td>Customer-Service related complaint : customer,...</td>\n",
       "    </tr>\n",
       "    <tr>\n",
       "      <th>2</th>\n",
       "      <td>I received a mailed pre-approved for an Aspire...</td>\n",
       "      <td>Credit-Limit related complaint : credit,limit,...</td>\n",
       "      <td>Transaction-Dispute related complaint : charge...</td>\n",
       "      <td>Customer-Service related complaint : customer,...</td>\n",
       "    </tr>\n",
       "  </tbody>\n",
       "</table>\n",
       "</div>"
      ],
      "text/plain": [
       "                                                Text  \\\n",
       "0  This all stemmed from a fraudulent charge from...   \n",
       "1  I have this same problem with all Synchrony cr...   \n",
       "2  I received a mailed pre-approved for an Aspire...   \n",
       "\n",
       "                                             Topic 1  \\\n",
       "0  Transaction-Dispute related complaint : charge...   \n",
       "1  Payments related complaint: payment,account,cr...   \n",
       "2  Credit-Limit related complaint : credit,limit,...   \n",
       "\n",
       "                                             Topic 2  \\\n",
       "0  Customer-Service related complaint : customer,...   \n",
       "1  Rewards/Offers related complaint: purchase,poi...   \n",
       "2  Transaction-Dispute related complaint : charge...   \n",
       "\n",
       "                                             Topic 3  \n",
       "0  Account related complaint : account,card,capit...  \n",
       "1  Customer-Service related complaint : customer,...  \n",
       "2  Customer-Service related complaint : customer,...  "
      ]
     },
     "execution_count": 10,
     "metadata": {},
     "output_type": "execute_result"
    }
   ],
   "source": [
    "file_path = os.getcwd()\n",
    "output_df_path = os.path.join(file_path, 'output.csv')\n",
    "print(\"Sample Output:\")\n",
    "output_df = pd.read_csv(output_df_path)\n",
    "output_df.head()"
   ]
  },
  {
   "cell_type": "markdown",
   "metadata": {},
   "source": [
    "#### E. Delete the endpoint"
   ]
  },
  {
   "cell_type": "markdown",
   "metadata": {},
   "source": [
    "Now that you have successfully performed a real-time inference, you do not need the endpoint any more. You can terminate the endpoint to avoid being charged."
   ]
  },
  {
   "cell_type": "code",
   "execution_count": 11,
   "metadata": {},
   "outputs": [],
   "source": [
    "predictor=sage.predictor.Predictor(model_name, sagemaker_session,content_type)\n",
    "predictor.delete_endpoint(delete_endpoint_config=True)"
   ]
  },
  {
   "cell_type": "markdown",
   "metadata": {},
   "source": [
    "### 3. Perform batch inference"
   ]
  },
  {
   "cell_type": "markdown",
   "metadata": {},
   "source": [
    "In this section, you will perform batch inference using multiple input payloads together. If you are not familiar with batch transform, and want to learn more, see these links:\n",
    "1. [How it works](https://docs.aws.amazon.com/sagemaker/latest/dg/ex1-batch-transform.html)\n",
    "2. [How to run a batch transform job](https://docs.aws.amazon.com/sagemaker/latest/dg/how-it-works-batch.html)"
   ]
  },
  {
   "cell_type": "code",
   "execution_count": null,
   "metadata": {},
   "outputs": [],
   "source": [
    "#upload the batch-transform job input files to S3\n",
    "transform_input_folder = \"data/input/batch\"\n",
    "transform_input = sagemaker_session.upload_data(transform_input_folder, key_prefix=model_name) \n",
    "print(\"Transform input uploaded to \" + transform_input)"
   ]
  },
  {
   "cell_type": "code",
   "execution_count": 16,
   "metadata": {},
   "outputs": [
    {
     "name": "stdout",
     "output_type": "stream",
     "text": [
      "........................\n",
      "\u001b[34m * Serving Flask app 'serve' (lazy loading)\n",
      " * Environment: production\n",
      "   WARNING: This is a development server. Do not use it in a production deployment.\n",
      "   Use a production WSGI server instead.\n",
      " * Debug mode: on\n",
      " * Running on all addresses.\n",
      "   WARNING: This is a development server. Do not use it in a production deployment.\n",
      " * Running on http://169.254.255.131:8080/ (Press CTRL+C to quit)\n",
      " * Restarting with stat\n",
      " * Debugger is active!\n",
      " * Debugger PIN: 137-417-962\u001b[0m\n",
      "\u001b[35m * Serving Flask app 'serve' (lazy loading)\n",
      " * Environment: production\n",
      "   WARNING: This is a development server. Do not use it in a production deployment.\n",
      "   Use a production WSGI server instead.\n",
      " * Debug mode: on\n",
      " * Running on all addresses.\n",
      "   WARNING: This is a development server. Do not use it in a production deployment.\n",
      " * Running on http://169.254.255.131:8080/ (Press CTRL+C to quit)\n",
      " * Restarting with stat\n",
      " * Debugger is active!\n",
      " * Debugger PIN: 137-417-962\u001b[0m\n",
      "\u001b[34m169.254.255.130 - - [13/Jul/2021 21:48:40] \"GET /ping HTTP/1.1\" 200 -\u001b[0m\n",
      "\u001b[34m169.254.255.130 - - [13/Jul/2021 21:48:40] \"#033[33mGET /execution-parameters HTTP/1.1#033[0m\" 404 -\u001b[0m\n",
      "\u001b[35m169.254.255.130 - - [13/Jul/2021 21:48:40] \"GET /ping HTTP/1.1\" 200 -\u001b[0m\n",
      "\u001b[35m169.254.255.130 - - [13/Jul/2021 21:48:40] \"#033[33mGET /execution-parameters HTTP/1.1#033[0m\" 404 -\u001b[0m\n",
      "\u001b[34m3\n",
      "                                                Text  ...                                            Topic 3\u001b[0m\n",
      "\u001b[34m0  This all stemmed from a fraudulent charge from...  ...  Account related complaint : account,card,capit...\u001b[0m\n",
      "\u001b[34m1  I have this same problem with all Synchrony cr...  ...  Customer-Service related complaint : customer,...\u001b[0m\n",
      "\u001b[34m2  I received a mailed pre-approved for an Aspire...  ...  Customer-Service related complaint : customer,...\n",
      "\u001b[0m\n",
      "\u001b[34m[3 rows x 4 columns]\u001b[0m\n",
      "\u001b[34m4:                                                 Text  ...                                            Topic 3\u001b[0m\n",
      "\u001b[34m0  This all stemmed from a fraudulent charge from...  ...  Account related complaint : account,card,capit...\u001b[0m\n",
      "\u001b[34m0  I have this same problem with all Synchrony cr...  ...  Customer-Service related complaint : customer,...\u001b[0m\n",
      "\u001b[34m0  I received a mailed pre-approved for an Aspire...  ...  Customer-Service related complaint : customer,...\n",
      "\u001b[0m\n",
      "\u001b[34m[3 rows x 4 columns]\u001b[0m\n",
      "\u001b[34m169.254.255.130 - - [13/Jul/2021 21:48:40] \"POST /invocations HTTP/1.1\" 200 -\u001b[0m\n",
      "\u001b[34m3\n",
      "                                                Text  ...                                            Topic 3\u001b[0m\n",
      "\u001b[34m0  This all stemmed from a fraudulent charge from...  ...  Account related complaint : account,card,capit...\u001b[0m\n",
      "\u001b[34m1  I have this same problem with all Synchrony cr...  ...  Customer-Service related complaint : customer,...\u001b[0m\n",
      "\u001b[34m2  I received a mailed pre-approved for an Aspire...  ...  Customer-Service related complaint : customer,...\n",
      "\u001b[0m\n",
      "\u001b[35m3\n",
      "                                                Text  ...                                            Topic 3\u001b[0m\n",
      "\u001b[35m0  This all stemmed from a fraudulent charge from...  ...  Account related complaint : account,card,capit...\u001b[0m\n",
      "\u001b[35m1  I have this same problem with all Synchrony cr...  ...  Customer-Service related complaint : customer,...\u001b[0m\n",
      "\u001b[35m2  I received a mailed pre-approved for an Aspire...  ...  Customer-Service related complaint : customer,...\n",
      "\u001b[0m\n",
      "\u001b[35m[3 rows x 4 columns]\u001b[0m\n",
      "\u001b[35m4:                                                 Text  ...                                            Topic 3\u001b[0m\n",
      "\u001b[35m0  This all stemmed from a fraudulent charge from...  ...  Account related complaint : account,card,capit...\u001b[0m\n",
      "\u001b[35m0  I have this same problem with all Synchrony cr...  ...  Customer-Service related complaint : customer,...\u001b[0m\n",
      "\u001b[35m0  I received a mailed pre-approved for an Aspire...  ...  Customer-Service related complaint : customer,...\n",
      "\u001b[0m\n",
      "\u001b[35m[3 rows x 4 columns]\u001b[0m\n",
      "\u001b[35m169.254.255.130 - - [13/Jul/2021 21:48:40] \"POST /invocations HTTP/1.1\" 200 -\u001b[0m\n",
      "\u001b[35m3\n",
      "                                                Text  ...                                            Topic 3\u001b[0m\n",
      "\u001b[35m0  This all stemmed from a fraudulent charge from...  ...  Account related complaint : account,card,capit...\u001b[0m\n",
      "\u001b[35m1  I have this same problem with all Synchrony cr...  ...  Customer-Service related complaint : customer,...\u001b[0m\n",
      "\u001b[35m2  I received a mailed pre-approved for an Aspire...  ...  Customer-Service related complaint : customer,...\n",
      "\u001b[0m\n",
      "\u001b[34m[3 rows x 4 columns]\u001b[0m\n",
      "\u001b[34m4:                                                 Text  ...                                            Topic 3\u001b[0m\n",
      "\u001b[34m0  This all stemmed from a fraudulent charge from...  ...  Account related complaint : account,card,capit...\u001b[0m\n",
      "\u001b[34m0  I have this same problem with all Synchrony cr...  ...  Customer-Service related complaint : customer,...\u001b[0m\n",
      "\u001b[34m0  I received a mailed pre-approved for an Aspire...  ...  Customer-Service related complaint : customer,...\n",
      "\u001b[0m\n",
      "\u001b[34m[3 rows x 4 columns]\u001b[0m\n",
      "\u001b[34m169.254.255.130 - - [13/Jul/2021 21:48:41] \"POST /invocations HTTP/1.1\" 200 -\u001b[0m\n",
      "\u001b[34m3\n",
      "                                                Text  ...                                            Topic 3\u001b[0m\n",
      "\u001b[34m0  This all stemmed from a fraudulent charge from...  ...  Account related complaint : account,card,capit...\u001b[0m\n",
      "\u001b[34m1  I have this same problem with all Synchrony cr...  ...  Customer-Service related complaint : customer,...\u001b[0m\n",
      "\u001b[34m2  I received a mailed pre-approved for an Aspire...  ...  Customer-Service related complaint : customer,...\n",
      "\u001b[0m\n",
      "\u001b[34m[3 rows x 4 columns]\u001b[0m\n",
      "\u001b[34m4:                                                 Text  ...                                            Topic 3\u001b[0m\n",
      "\u001b[34m0  This all stemmed from a fraudulent charge from...  ...  Account related complaint : account,card,capit...\u001b[0m\n",
      "\u001b[34m0  I have this same problem with all Synchrony cr...  ...  Customer-Service related complaint : customer,...\u001b[0m\n",
      "\u001b[34m0  I received a mailed pre-approved for an Aspire...  ...  Customer-Service related complaint : customer,...\n",
      "\u001b[0m\n",
      "\u001b[34m[3 rows x 4 columns]\u001b[0m\n",
      "\u001b[34m169.254.255.130 - - [13/Jul/2021 21:48:41] \"POST /invocations HTTP/1.1\" 200 -\u001b[0m\n",
      "\u001b[34m3\n",
      "                                                Text\u001b[0m\n",
      "\u001b[34m0  This all stemmed from a fraudulent charge from...\u001b[0m\n",
      "\u001b[34m1  I have this same problem with all Synchrony cr...\u001b[0m\n",
      "\u001b[34m2  I received a mailed pre-approved for an Aspire...\u001b[0m\n",
      "\u001b[34m4:                                                 Text  ...                                            Topic 3\u001b[0m\n",
      "\u001b[34m0  This all stemmed from a fraudulent charge from...  ...  Account related complaint : account,card,capit...\u001b[0m\n",
      "\u001b[34m0  I have this same problem with all Synchrony cr...  ...  Customer-Service related complaint : customer,...\u001b[0m\n",
      "\u001b[34m0  I received a mailed pre-approved for an Aspire...  ...  Customer-Service related complaint : customer,...\n",
      "\u001b[0m\n",
      "\u001b[34m[3 rows x 4 columns]\u001b[0m\n",
      "\u001b[34m169.254.255.130 - - [13/Jul/2021 21:48:41] \"POST /invocations HTTP/1.1\" 200 -\u001b[0m\n",
      "\u001b[35m[3 rows x 4 columns]\u001b[0m\n",
      "\u001b[35m4:                                                 Text  ...                                            Topic 3\u001b[0m\n",
      "\u001b[35m0  This all stemmed from a fraudulent charge from...  ...  Account related complaint : account,card,capit...\u001b[0m\n",
      "\u001b[35m0  I have this same problem with all Synchrony cr...  ...  Customer-Service related complaint : customer,...\u001b[0m\n",
      "\u001b[35m0  I received a mailed pre-approved for an Aspire...  ...  Customer-Service related complaint : customer,...\n",
      "\u001b[0m\n",
      "\u001b[35m[3 rows x 4 columns]\u001b[0m\n",
      "\u001b[35m169.254.255.130 - - [13/Jul/2021 21:48:41] \"POST /invocations HTTP/1.1\" 200 -\u001b[0m\n",
      "\u001b[35m3\n",
      "                                                Text  ...                                            Topic 3\u001b[0m\n",
      "\u001b[35m0  This all stemmed from a fraudulent charge from...  ...  Account related complaint : account,card,capit...\u001b[0m\n",
      "\u001b[35m1  I have this same problem with all Synchrony cr...  ...  Customer-Service related complaint : customer,...\u001b[0m\n",
      "\u001b[35m2  I received a mailed pre-approved for an Aspire...  ...  Customer-Service related complaint : customer,...\n",
      "\u001b[0m\n",
      "\u001b[35m[3 rows x 4 columns]\u001b[0m\n",
      "\u001b[35m4:                                                 Text  ...                                            Topic 3\u001b[0m\n",
      "\u001b[35m0  This all stemmed from a fraudulent charge from...  ...  Account related complaint : account,card,capit...\u001b[0m\n",
      "\u001b[35m0  I have this same problem with all Synchrony cr...  ...  Customer-Service related complaint : customer,...\u001b[0m\n",
      "\u001b[35m0  I received a mailed pre-approved for an Aspire...  ...  Customer-Service related complaint : customer,...\n",
      "\u001b[0m\n",
      "\u001b[35m[3 rows x 4 columns]\u001b[0m\n",
      "\u001b[35m169.254.255.130 - - [13/Jul/2021 21:48:41] \"POST /invocations HTTP/1.1\" 200 -\u001b[0m\n",
      "\u001b[35m3\n",
      "                                                Text\u001b[0m\n",
      "\u001b[35m0  This all stemmed from a fraudulent charge from...\u001b[0m\n",
      "\u001b[35m1  I have this same problem with all Synchrony cr...\u001b[0m\n",
      "\u001b[35m2  I received a mailed pre-approved for an Aspire...\u001b[0m\n",
      "\u001b[35m4:                                                 Text  ...                                            Topic 3\u001b[0m\n",
      "\u001b[35m0  This all stemmed from a fraudulent charge from...  ...  Account related complaint : account,card,capit...\u001b[0m\n",
      "\u001b[35m0  I have this same problem with all Synchrony cr...  ...  Customer-Service related complaint : customer,...\u001b[0m\n",
      "\u001b[35m0  I received a mailed pre-approved for an Aspire...  ...  Customer-Service related complaint : customer,...\n",
      "\u001b[0m\n",
      "\u001b[35m[3 rows x 4 columns]\u001b[0m\n",
      "\u001b[35m169.254.255.130 - - [13/Jul/2021 21:48:41] \"POST /invocations HTTP/1.1\" 200 -\u001b[0m\n",
      "\u001b[32m2021-07-13T21:48:40.574:[sagemaker logs]: MaxConcurrentTransforms=1, MaxPayloadInMB=6, BatchStrategy=MULTI_RECORD\u001b[0m\n"
     ]
    },
    {
     "name": "stdout",
     "output_type": "stream",
     "text": [
      "\u001b[34m * Serving Flask app 'serve' (lazy loading)\n",
      " * Environment: production\n",
      "   WARNING: This is a development server. Do not use it in a production deployment.\n",
      "   Use a production WSGI server instead.\n",
      " * Debug mode: on\n",
      " * Running on all addresses.\n",
      "   WARNING: This is a development server. Do not use it in a production deployment.\n",
      " * Running on http://169.254.255.131:8080/ (Press CTRL+C to quit)\n",
      " * Restarting with stat\n",
      " * Debugger is active!\n",
      " * Debugger PIN: 137-417-962\u001b[0m\n",
      "\u001b[35m * Serving Flask app 'serve' (lazy loading)\n",
      " * Environment: production\n",
      "   WARNING: This is a development server. Do not use it in a production deployment.\n",
      "   Use a production WSGI server instead.\n",
      " * Debug mode: on\n",
      " * Running on all addresses.\n",
      "   WARNING: This is a development server. Do not use it in a production deployment.\n",
      " * Running on http://169.254.255.131:8080/ (Press CTRL+C to quit)\n",
      " * Restarting with stat\n",
      " * Debugger is active!\n",
      " * Debugger PIN: 137-417-962\u001b[0m\n",
      "\u001b[34m169.254.255.130 - - [13/Jul/2021 21:48:40] \"GET /ping HTTP/1.1\" 200 -\u001b[0m\n",
      "\u001b[34m169.254.255.130 - - [13/Jul/2021 21:48:40] \"#033[33mGET /execution-parameters HTTP/1.1#033[0m\" 404 -\u001b[0m\n",
      "\u001b[35m169.254.255.130 - - [13/Jul/2021 21:48:40] \"GET /ping HTTP/1.1\" 200 -\u001b[0m\n",
      "\u001b[35m169.254.255.130 - - [13/Jul/2021 21:48:40] \"#033[33mGET /execution-parameters HTTP/1.1#033[0m\" 404 -\u001b[0m\n",
      "\u001b[34m3\n",
      "                                                Text  ...                                            Topic 3\u001b[0m\n",
      "\u001b[34m0  This all stemmed from a fraudulent charge from...  ...  Account related complaint : account,card,capit...\u001b[0m\n",
      "\u001b[34m1  I have this same problem with all Synchrony cr...  ...  Customer-Service related complaint : customer,...\u001b[0m\n",
      "\u001b[34m2  I received a mailed pre-approved for an Aspire...  ...  Customer-Service related complaint : customer,...\n",
      "\u001b[0m\n",
      "\u001b[34m[3 rows x 4 columns]\u001b[0m\n",
      "\u001b[34m4:                                                 Text  ...                                            Topic 3\u001b[0m\n",
      "\u001b[34m0  This all stemmed from a fraudulent charge from...  ...  Account related complaint : account,card,capit...\u001b[0m\n",
      "\u001b[34m0  I have this same problem with all Synchrony cr...  ...  Customer-Service related complaint : customer,...\u001b[0m\n",
      "\u001b[34m0  I received a mailed pre-approved for an Aspire...  ...  Customer-Service related complaint : customer,...\n",
      "\u001b[0m\n",
      "\u001b[34m[3 rows x 4 columns]\u001b[0m\n",
      "\u001b[34m169.254.255.130 - - [13/Jul/2021 21:48:40] \"POST /invocations HTTP/1.1\" 200 -\u001b[0m\n",
      "\u001b[34m3\n",
      "                                                Text  ...                                            Topic 3\u001b[0m\n",
      "\u001b[34m0  This all stemmed from a fraudulent charge from...  ...  Account related complaint : account,card,capit...\u001b[0m\n",
      "\u001b[34m1  I have this same problem with all Synchrony cr...  ...  Customer-Service related complaint : customer,...\u001b[0m\n",
      "\u001b[34m2  I received a mailed pre-approved for an Aspire...  ...  Customer-Service related complaint : customer,...\n",
      "\u001b[0m\n",
      "\u001b[35m3\n",
      "                                                Text  ...                                            Topic 3\u001b[0m\n",
      "\u001b[35m0  This all stemmed from a fraudulent charge from...  ...  Account related complaint : account,card,capit...\u001b[0m\n",
      "\u001b[35m1  I have this same problem with all Synchrony cr...  ...  Customer-Service related complaint : customer,...\u001b[0m\n",
      "\u001b[35m2  I received a mailed pre-approved for an Aspire...  ...  Customer-Service related complaint : customer,...\n",
      "\u001b[0m\n",
      "\u001b[35m[3 rows x 4 columns]\u001b[0m\n",
      "\u001b[35m4:                                                 Text  ...                                            Topic 3\u001b[0m\n",
      "\u001b[35m0  This all stemmed from a fraudulent charge from...  ...  Account related complaint : account,card,capit...\u001b[0m\n",
      "\u001b[35m0  I have this same problem with all Synchrony cr...  ...  Customer-Service related complaint : customer,...\u001b[0m\n",
      "\u001b[35m0  I received a mailed pre-approved for an Aspire...  ...  Customer-Service related complaint : customer,...\n",
      "\u001b[0m\n",
      "\u001b[35m[3 rows x 4 columns]\u001b[0m\n",
      "\u001b[35m169.254.255.130 - - [13/Jul/2021 21:48:40] \"POST /invocations HTTP/1.1\" 200 -\u001b[0m\n",
      "\u001b[35m3\n",
      "                                                Text  ...                                            Topic 3\u001b[0m\n",
      "\u001b[35m0  This all stemmed from a fraudulent charge from...  ...  Account related complaint : account,card,capit...\u001b[0m\n",
      "\u001b[35m1  I have this same problem with all Synchrony cr...  ...  Customer-Service related complaint : customer,...\u001b[0m\n",
      "\u001b[35m2  I received a mailed pre-approved for an Aspire...  ...  Customer-Service related complaint : customer,...\n",
      "\u001b[0m\n",
      "\u001b[34m[3 rows x 4 columns]\u001b[0m\n",
      "\u001b[34m4:                                                 Text  ...                                            Topic 3\u001b[0m\n",
      "\u001b[34m0  This all stemmed from a fraudulent charge from...  ...  Account related complaint : account,card,capit...\u001b[0m\n",
      "\u001b[34m0  I have this same problem with all Synchrony cr...  ...  Customer-Service related complaint : customer,...\u001b[0m\n",
      "\u001b[34m0  I received a mailed pre-approved for an Aspire...  ...  Customer-Service related complaint : customer,...\n",
      "\u001b[0m\n",
      "\u001b[34m[3 rows x 4 columns]\u001b[0m\n",
      "\u001b[34m169.254.255.130 - - [13/Jul/2021 21:48:41] \"POST /invocations HTTP/1.1\" 200 -\u001b[0m\n",
      "\u001b[34m3\n",
      "                                                Text  ...                                            Topic 3\u001b[0m\n",
      "\u001b[34m0  This all stemmed from a fraudulent charge from...  ...  Account related complaint : account,card,capit...\u001b[0m\n",
      "\u001b[34m1  I have this same problem with all Synchrony cr...  ...  Customer-Service related complaint : customer,...\u001b[0m\n",
      "\u001b[34m2  I received a mailed pre-approved for an Aspire...  ...  Customer-Service related complaint : customer,...\n",
      "\u001b[0m\n",
      "\u001b[34m[3 rows x 4 columns]\u001b[0m\n",
      "\u001b[34m4:                                                 Text  ...                                            Topic 3\u001b[0m\n",
      "\u001b[34m0  This all stemmed from a fraudulent charge from...  ...  Account related complaint : account,card,capit...\u001b[0m\n",
      "\u001b[34m0  I have this same problem with all Synchrony cr...  ...  Customer-Service related complaint : customer,...\u001b[0m\n",
      "\u001b[34m0  I received a mailed pre-approved for an Aspire...  ...  Customer-Service related complaint : customer,...\n",
      "\u001b[0m\n",
      "\u001b[34m[3 rows x 4 columns]\u001b[0m\n",
      "\u001b[34m169.254.255.130 - - [13/Jul/2021 21:48:41] \"POST /invocations HTTP/1.1\" 200 -\u001b[0m\n",
      "\u001b[34m3\n",
      "                                                Text\u001b[0m\n",
      "\u001b[34m0  This all stemmed from a fraudulent charge from...\u001b[0m\n",
      "\u001b[34m1  I have this same problem with all Synchrony cr...\u001b[0m\n",
      "\u001b[34m2  I received a mailed pre-approved for an Aspire...\u001b[0m\n",
      "\u001b[34m4:                                                 Text  ...                                            Topic 3\u001b[0m\n",
      "\u001b[34m0  This all stemmed from a fraudulent charge from...  ...  Account related complaint : account,card,capit...\u001b[0m\n",
      "\u001b[34m0  I have this same problem with all Synchrony cr...  ...  Customer-Service related complaint : customer,...\u001b[0m\n",
      "\u001b[34m0  I received a mailed pre-approved for an Aspire...  ...  Customer-Service related complaint : customer,...\n",
      "\u001b[0m\n",
      "\u001b[34m[3 rows x 4 columns]\u001b[0m\n",
      "\u001b[34m169.254.255.130 - - [13/Jul/2021 21:48:41] \"POST /invocations HTTP/1.1\" 200 -\u001b[0m\n",
      "\u001b[35m[3 rows x 4 columns]\u001b[0m\n",
      "\u001b[35m4:                                                 Text  ...                                            Topic 3\u001b[0m\n",
      "\u001b[35m0  This all stemmed from a fraudulent charge from...  ...  Account related complaint : account,card,capit...\u001b[0m\n",
      "\u001b[35m0  I have this same problem with all Synchrony cr...  ...  Customer-Service related complaint : customer,...\u001b[0m\n",
      "\u001b[35m0  I received a mailed pre-approved for an Aspire...  ...  Customer-Service related complaint : customer,...\n",
      "\u001b[0m\n",
      "\u001b[35m[3 rows x 4 columns]\u001b[0m\n",
      "\u001b[35m169.254.255.130 - - [13/Jul/2021 21:48:41] \"POST /invocations HTTP/1.1\" 200 -\u001b[0m\n",
      "\u001b[35m3\n",
      "                                                Text  ...                                            Topic 3\u001b[0m\n",
      "\u001b[35m0  This all stemmed from a fraudulent charge from...  ...  Account related complaint : account,card,capit...\u001b[0m\n",
      "\u001b[35m1  I have this same problem with all Synchrony cr...  ...  Customer-Service related complaint : customer,...\u001b[0m\n",
      "\u001b[35m2  I received a mailed pre-approved for an Aspire...  ...  Customer-Service related complaint : customer,...\n",
      "\u001b[0m\n",
      "\u001b[35m[3 rows x 4 columns]\u001b[0m\n",
      "\u001b[35m4:                                                 Text  ...                                            Topic 3\u001b[0m\n",
      "\u001b[35m0  This all stemmed from a fraudulent charge from...  ...  Account related complaint : account,card,capit...\u001b[0m\n",
      "\u001b[35m0  I have this same problem with all Synchrony cr...  ...  Customer-Service related complaint : customer,...\u001b[0m\n",
      "\u001b[35m0  I received a mailed pre-approved for an Aspire...  ...  Customer-Service related complaint : customer,...\n",
      "\u001b[0m\n",
      "\u001b[35m[3 rows x 4 columns]\u001b[0m\n",
      "\u001b[35m169.254.255.130 - - [13/Jul/2021 21:48:41] \"POST /invocations HTTP/1.1\" 200 -\u001b[0m\n",
      "\u001b[35m3\n",
      "                                                Text\u001b[0m\n",
      "\u001b[35m0  This all stemmed from a fraudulent charge from...\u001b[0m\n",
      "\u001b[35m1  I have this same problem with all Synchrony cr...\u001b[0m\n",
      "\u001b[35m2  I received a mailed pre-approved for an Aspire...\u001b[0m\n",
      "\u001b[35m4:                                                 Text  ...                                            Topic 3\u001b[0m\n",
      "\u001b[35m0  This all stemmed from a fraudulent charge from...  ...  Account related complaint : account,card,capit...\u001b[0m\n",
      "\u001b[35m0  I have this same problem with all Synchrony cr...  ...  Customer-Service related complaint : customer,...\u001b[0m\n",
      "\u001b[35m0  I received a mailed pre-approved for an Aspire...  ...  Customer-Service related complaint : customer,...\n",
      "\u001b[0m\n",
      "\u001b[35m[3 rows x 4 columns]\u001b[0m\n",
      "\u001b[35m169.254.255.130 - - [13/Jul/2021 21:48:41] \"POST /invocations HTTP/1.1\" 200 -\u001b[0m\n",
      "\u001b[32m2021-07-13T21:48:40.574:[sagemaker logs]: MaxConcurrentTransforms=1, MaxPayloadInMB=6, BatchStrategy=MULTI_RECORD\u001b[0m\n"
     ]
    }
   ],
   "source": [
    "#Run the batch-transform job\n",
    "transformer = model.transformer(1, batch_transform_inference_instance_type)\n",
    "transformer.transform(transform_input, content_type=content_type)\n",
    "transformer.wait()"
   ]
  },
  {
   "cell_type": "code",
   "execution_count": null,
   "metadata": {},
   "outputs": [],
   "source": [
    "#output is available on following path\n",
    "transformer.output_path"
   ]
  },
  {
   "cell_type": "code",
   "execution_count": 18,
   "metadata": {},
   "outputs": [
    {
     "name": "stdout",
     "output_type": "stream",
     "text": [
      "Output file loaded from bucket\n"
     ]
    }
   ],
   "source": [
    "s3_conn = boto3.client(\"s3\")\n",
    "with open('output2.csv', 'wb') as f:\n",
    "    s3_conn.download_fileobj(bucket, os.path.basename(transformer.output_path)+'/input.csv.out', f)\n",
    "    print(\"Output file loaded from bucket\")"
   ]
  },
  {
   "cell_type": "code",
   "execution_count": 19,
   "metadata": {},
   "outputs": [
    {
     "name": "stdout",
     "output_type": "stream",
     "text": [
      "Sample Output:\n"
     ]
    },
    {
     "data": {
      "text/html": [
       "<div>\n",
       "<style scoped>\n",
       "    .dataframe tbody tr th:only-of-type {\n",
       "        vertical-align: middle;\n",
       "    }\n",
       "\n",
       "    .dataframe tbody tr th {\n",
       "        vertical-align: top;\n",
       "    }\n",
       "\n",
       "    .dataframe thead th {\n",
       "        text-align: right;\n",
       "    }\n",
       "</style>\n",
       "<table border=\"1\" class=\"dataframe\">\n",
       "  <thead>\n",
       "    <tr style=\"text-align: right;\">\n",
       "      <th></th>\n",
       "      <th>Text</th>\n",
       "      <th>Topic 1</th>\n",
       "      <th>Topic 2</th>\n",
       "      <th>Topic 3</th>\n",
       "    </tr>\n",
       "  </thead>\n",
       "  <tbody>\n",
       "    <tr>\n",
       "      <th>0</th>\n",
       "      <td>This all stemmed from a fraudulent charge from...</td>\n",
       "      <td>Transaction-Dispute related complaint : charge...</td>\n",
       "      <td>Customer-Service related complaint : customer,...</td>\n",
       "      <td>Account related complaint : account,card,capit...</td>\n",
       "    </tr>\n",
       "    <tr>\n",
       "      <th>1</th>\n",
       "      <td>I have this same problem with all Synchrony cr...</td>\n",
       "      <td>Payments related complaint: payment,account,cr...</td>\n",
       "      <td>Rewards/Offers related complaint: purchase,poi...</td>\n",
       "      <td>Customer-Service related complaint : customer,...</td>\n",
       "    </tr>\n",
       "    <tr>\n",
       "      <th>2</th>\n",
       "      <td>I received a mailed pre-approved for an Aspire...</td>\n",
       "      <td>Credit-Limit related complaint : credit,limit,...</td>\n",
       "      <td>Transaction-Dispute related complaint : charge...</td>\n",
       "      <td>Customer-Service related complaint : customer,...</td>\n",
       "    </tr>\n",
       "  </tbody>\n",
       "</table>\n",
       "</div>"
      ],
      "text/plain": [
       "                                                Text  \\\n",
       "0  This all stemmed from a fraudulent charge from...   \n",
       "1  I have this same problem with all Synchrony cr...   \n",
       "2  I received a mailed pre-approved for an Aspire...   \n",
       "\n",
       "                                             Topic 1  \\\n",
       "0  Transaction-Dispute related complaint : charge...   \n",
       "1  Payments related complaint: payment,account,cr...   \n",
       "2  Credit-Limit related complaint : credit,limit,...   \n",
       "\n",
       "                                             Topic 2  \\\n",
       "0  Customer-Service related complaint : customer,...   \n",
       "1  Rewards/Offers related complaint: purchase,poi...   \n",
       "2  Transaction-Dispute related complaint : charge...   \n",
       "\n",
       "                                             Topic 3  \n",
       "0  Account related complaint : account,card,capit...  \n",
       "1  Customer-Service related complaint : customer,...  \n",
       "2  Customer-Service related complaint : customer,...  "
      ]
     },
     "execution_count": 19,
     "metadata": {},
     "output_type": "execute_result"
    }
   ],
   "source": [
    "file_path = os.getcwd()\n",
    "output_df_path = os.path.join(file_path, 'output2.csv')\n",
    "print(\"Sample Output:\")\n",
    "output_df = pd.read_csv(output_df_path)\n",
    "output_df.head()"
   ]
  },
  {
   "cell_type": "markdown",
   "metadata": {},
   "source": [
    "### 4. Clean-up"
   ]
  },
  {
   "cell_type": "markdown",
   "metadata": {},
   "source": [
    "#### A. Delete the model"
   ]
  },
  {
   "cell_type": "code",
   "execution_count": 20,
   "metadata": {},
   "outputs": [],
   "source": [
    "model.delete_model()"
   ]
  },
  {
   "cell_type": "markdown",
   "metadata": {},
   "source": [
    "#### B. Unsubscribe to the listing (optional)"
   ]
  },
  {
   "cell_type": "markdown",
   "metadata": {},
   "source": [
    "If you would like to unsubscribe to the model package, follow these steps. Before you cancel the subscription, ensure that you do not have any [deployable model](https://console.aws.amazon.com/sagemaker/home#/models) created from the model package or using the algorithm. Note - You can find this information by looking at the container name associated with the model. \n",
    "\n",
    "**Steps to unsubscribe to product from AWS Marketplace**:\n",
    "1. Navigate to __Machine Learning__ tab on [__Your Software subscriptions page__](https://aws.amazon.com/marketplace/ai/library?productType=ml&ref_=mlmp_gitdemo_indust)\n",
    "2. Locate the listing that you want to cancel the subscription for, and then choose __Cancel Subscription__  to cancel the subscription."
   ]
  }
 ],
 "metadata": {
  "kernelspec": {
   "display_name": "conda_mxnet_p36",
   "language": "python",
   "name": "conda_mxnet_p36"
  },
  "language_info": {
   "codemirror_mode": {
    "name": "ipython",
    "version": 3
   },
   "file_extension": ".py",
   "mimetype": "text/x-python",
   "name": "python",
   "nbconvert_exporter": "python",
   "pygments_lexer": "ipython3",
   "version": "3.6.13"
  }
 },
 "nbformat": 4,
 "nbformat_minor": 2
}
